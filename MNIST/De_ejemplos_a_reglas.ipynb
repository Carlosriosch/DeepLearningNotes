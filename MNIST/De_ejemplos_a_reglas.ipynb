{
 "cells": [
  {
   "cell_type": "markdown",
   "metadata": {
    "colab_type": "text",
    "id": "mhOTKiz-4-Ly"
   },
   "source": [
    "<a href=\"https://colab.research.google.com/github/torresmateo/redes-neuronales/blob/master/Clase_1/De_ejemplos_a_reglas.ipynb\" target=\"_parent\">\n",
    "  <img src=\"https://colab.research.google.com/assets/colab-badge.svg\" alt=\"Open In Colab\"/>\n",
    "</a>\n",
    "\n",
    "# De ejemplos a reglas\n",
    "En este notebook se muestra como generar un programa a partir de ejemplos usando TensorFlow."
   ]
  },
  {
   "cell_type": "code",
   "execution_count": 1,
   "metadata": {
    "colab": {
     "base_uri": "https://localhost:8080/",
     "height": 34
    },
    "colab_type": "code",
    "id": "WtyBxheo4uy3",
    "outputId": "48c37289-e048-4327-d2b1-c716c52e5f79"
   },
   "outputs": [],
   "source": [
    "# Se incluyen las bibliotecas necesarias\n",
    "#%tensorflow_version 2.x\n",
    "import numpy as np\n",
    "import tensorflow as tf"
   ]
  },
  {
   "cell_type": "markdown",
   "metadata": {
    "colab_type": "text",
    "id": "Oj4lwAoZKJ4u"
   },
   "source": [
    "# Generar Datos de prueba\n",
    "\n",
    "Definimos una función simple y generamos ejemplos de prueba, en este caso:\n",
    "* las reglas son definidas por la función `f(x)`\n",
    "* la variable `xs` contiene todos los **inputs** \n",
    "* la variable `ys` contiene todos los **outputs**\n",
    "\n",
    "En este ejemplo, la función definida es $f(x) = x + 5$, y generamos un *dataset* con 20 ejemplos.\n"
   ]
  },
  {
   "cell_type": "code",
   "execution_count": 2,
   "metadata": {
    "colab": {},
    "colab_type": "code",
    "id": "4SqOH6eS6-pb"
   },
   "outputs": [],
   "source": [
    "def f(x):\n",
    "  return x + 5\n",
    "xs = np.arange(0,10,0.5)\n",
    "ys = f(xs)"
   ]
  },
  {
   "cell_type": "code",
   "execution_count": 3,
   "metadata": {
    "colab": {},
    "colab_type": "code",
    "id": "Mo08_c656gPt"
   },
   "outputs": [],
   "source": [
    "# reset de la sesión, en caso de querer reentrenar el modelo\n",
    "tf.keras.backend.clear_session()"
   ]
  },
  {
   "cell_type": "markdown",
   "metadata": {
    "colab_type": "text",
    "id": "8rJdVX1OBNlg"
   },
   "source": [
    "# Neurona Artificial\n",
    "Este modelo consta de una sola neurona, con un solo input. Se incluye la imágen de la presentación para recordar el concepto de neurona artifical.\n",
    "\n",
    "<img alt='perceptron' src='./img/Perceptron.png' width=\"300\"/>\n",
    "\n",
    "Recordar que la función que se ejecuta en la neurona es $\\varphi \\left( \\mathbf{w} \\cdot \\mathbf{x} + b \\right)$ donde:\n",
    "* $\\varphi$ es una función arbitratia, derivable, usualmente no lineal\n",
    "* $\\mathbf{w}$ son los coeficientes de cada *input* \n",
    "* $b$ es el *bias*, un parámetro entrenable que no depende de los valores de entrada.\n"
   ]
  },
  {
   "cell_type": "code",
   "execution_count": 4,
   "metadata": {
    "colab": {},
    "colab_type": "code",
    "id": "X12H7qE5BLOV"
   },
   "outputs": [],
   "source": [
    "model = tf.keras.Sequential([tf.keras.layers.Dense(units=1, input_shape=[1])])"
   ]
  },
  {
   "cell_type": "markdown",
   "metadata": {
    "colab_type": "text",
    "id": "MiSV9Mx0Kr8K"
   },
   "source": [
    "Compilamos el modelo, indicando la función de optimización que deseamos utilizar. En este caso, la función es [Stochastic Gradient Descent](https://www.tensorflow.org/api_docs/python/tf/keras/optimizers/SGD?version=stable). \n",
    "\n",
    "Además, indicamos la función a optimizar (o *loss function*, pues se busca minimizar la \"perdida\" o *loss*). En este caso, usamos el [Mean Squared Error](https://www.tensorflow.org/api_docs/python/tf/keras/losses/MSE?version=stable) o \"error cuadrado promedio\". Esta función es adecuada para problemas de regresión, pues penaliza con más severidad a los valores más lejanos al valor de entrenamiento dado por los ejemplos."
   ]
  },
  {
   "cell_type": "code",
   "execution_count": 5,
   "metadata": {
    "colab": {},
    "colab_type": "code",
    "id": "yo_FA8xD6qvk"
   },
   "outputs": [],
   "source": [
    "model.compile(optimizer='sgd', loss='mse')"
   ]
  },
  {
   "cell_type": "markdown",
   "metadata": {
    "colab_type": "text",
    "id": "c3YKW0zkMCcl"
   },
   "source": [
    "Podemos ver un resumen del modelo, que nos indica información útil como el detalle de cada *layer* y la cantidad de parámetros del modelo.\n",
    "\n",
    "En este caso contamos con una sola neurona, y por lo tanto 2 parámetros:\n",
    "1. el coeficiente que se multiplica al valor de entrada.\n",
    "2. el valor de *bias* que se suma a la combinación lineal de valores de entrada."
   ]
  },
  {
   "cell_type": "code",
   "execution_count": 6,
   "metadata": {
    "colab": {
     "base_uri": "https://localhost:8080/",
     "height": 187
    },
    "colab_type": "code",
    "id": "pnqlOSYg68fl",
    "outputId": "952a7de2-d672-4cbe-e4cc-d4c809ebdd27",
    "tags": []
   },
   "outputs": [
    {
     "output_type": "stream",
     "name": "stdout",
     "text": "Model: \"sequential\"\n_________________________________________________________________\nLayer (type)                 Output Shape              Param #   \n=================================================================\ndense (Dense)                (None, 1)                 2         \n=================================================================\nTotal params: 2\nTrainable params: 2\nNon-trainable params: 0\n_________________________________________________________________\n"
    }
   ],
   "source": [
    "model.summary()"
   ]
  },
  {
   "cell_type": "markdown",
   "metadata": {
    "colab_type": "text",
    "id": "qXHd27BWNMn4"
   },
   "source": [
    "# Entrenando la red neuronal\n",
    "El entrenamiento consiste en actualizar los parámetros del modelo basado en los ejemplos del *dataset*. En cada *epoch*, se muestra todo el *dataset* y se actualizan los parámetros del modelo. En este ejemplo, usamos 500 *epochs* para entrenar nuestro modelo."
   ]
  },
  {
   "cell_type": "code",
   "execution_count": 7,
   "metadata": {
    "colab": {
     "base_uri": "https://localhost:8080/",
     "height": 1000
    },
    "colab_type": "code",
    "id": "mfQgCSrc7JEA",
    "outputId": "6b56b756-72df-4ddb-e161-087b8ec5fcf3",
    "tags": [
     "outputPrepend"
    ]
   },
   "outputs": [
    {
     "output_type": "stream",
     "name": "stdout",
     "text": "- 0s 4ms/step - loss: 0.4124\nEpoch 253/500\n1/1 [==============================] - 0s 3ms/step - loss: 0.4080\nEpoch 254/500\n1/1 [==============================] - 0s 5ms/step - loss: 0.4037\nEpoch 255/500\n1/1 [==============================] - 0s 2ms/step - loss: 0.3995\nEpoch 256/500\n1/1 [==============================] - 0s 8ms/step - loss: 0.3953\nEpoch 257/500\n1/1 [==============================] - 0s 3ms/step - loss: 0.3912\nEpoch 258/500\n1/1 [==============================] - 0s 4ms/step - loss: 0.3871\nEpoch 259/500\n1/1 [==============================] - 0s 5ms/step - loss: 0.3830\nEpoch 260/500\n1/1 [==============================] - 0s 3ms/step - loss: 0.3790\nEpoch 261/500\n1/1 [==============================] - 0s 3ms/step - loss: 0.3750\nEpoch 262/500\n1/1 [==============================] - 0s 4ms/step - loss: 0.3711\nEpoch 263/500\n1/1 [==============================] - 0s 4ms/step - loss: 0.3672\nEpoch 264/500\n1/1 [==============================] - 0s 4ms/step - loss: 0.3633\nEpoch 265/500\n1/1 [==============================] - 0s 2ms/step - loss: 0.3595\nEpoch 266/500\n1/1 [==============================] - 0s 3ms/step - loss: 0.3558\nEpoch 267/500\n1/1 [==============================] - 0s 4ms/step - loss: 0.3520\nEpoch 268/500\n1/1 [==============================] - 0s 2ms/step - loss: 0.3483\nEpoch 269/500\n1/1 [==============================] - 0s 3ms/step - loss: 0.3447\nEpoch 270/500\n1/1 [==============================] - 0s 1ms/step - loss: 0.3411\nEpoch 271/500\n1/1 [==============================] - 0s 5ms/step - loss: 0.3375\nEpoch 272/500\n1/1 [==============================] - 0s 2ms/step - loss: 0.3339\nEpoch 273/500\n1/1 [==============================] - 0s 5ms/step - loss: 0.3304\nEpoch 274/500\n1/1 [==============================] - 0s 4ms/step - loss: 0.3270\nEpoch 275/500\n1/1 [==============================] - 0s 2ms/step - loss: 0.3235\nEpoch 276/500\n1/1 [==============================] - 0s 4ms/step - loss: 0.3201\nEpoch 277/500\n1/1 [==============================] - 0s 4ms/step - loss: 0.3168\nEpoch 278/500\n1/1 [==============================] - 0s 2ms/step - loss: 0.3135\nEpoch 279/500\n1/1 [==============================] - 0s 2ms/step - loss: 0.3102\nEpoch 280/500\n1/1 [==============================] - 0s 2ms/step - loss: 0.3069\nEpoch 281/500\n1/1 [==============================] - 0s 9ms/step - loss: 0.3037\nEpoch 282/500\n1/1 [==============================] - 0s 2ms/step - loss: 0.3005\nEpoch 283/500\n1/1 [==============================] - 0s 2ms/step - loss: 0.2974\nEpoch 284/500\n1/1 [==============================] - 0s 3ms/step - loss: 0.2942\nEpoch 285/500\n1/1 [==============================] - 0s 5ms/step - loss: 0.2912\nEpoch 286/500\n1/1 [==============================] - 0s 6ms/step - loss: 0.2881\nEpoch 287/500\n1/1 [==============================] - 0s 3ms/step - loss: 0.2851\nEpoch 288/500\n1/1 [==============================] - 0s 2ms/step - loss: 0.2821\nEpoch 289/500\n1/1 [==============================] - 0s 2ms/step - loss: 0.2791\nEpoch 290/500\n1/1 [==============================] - 0s 2ms/step - loss: 0.2762\nEpoch 291/500\n1/1 [==============================] - 0s 4ms/step - loss: 0.2733\nEpoch 292/500\n1/1 [==============================] - 0s 5ms/step - loss: 0.2704\nEpoch 293/500\n1/1 [==============================] - 0s 4ms/step - loss: 0.2676\nEpoch 294/500\n1/1 [==============================] - 0s 4ms/step - loss: 0.2648\nEpoch 295/500\n1/1 [==============================] - 0s 3ms/step - loss: 0.2620\nEpoch 296/500\n1/1 [==============================] - 0s 2ms/step - loss: 0.2593\nEpoch 297/500\n1/1 [==============================] - 0s 2ms/step - loss: 0.2565\nEpoch 298/500\n1/1 [==============================] - 0s 3ms/step - loss: 0.2539\nEpoch 299/500\n1/1 [==============================] - 0s 3ms/step - loss: 0.2512\nEpoch 300/500\n1/1 [==============================] - 0s 998us/step - loss: 0.2486\nEpoch 301/500\n1/1 [==============================] - 0s 4ms/step - loss: 0.2460\nEpoch 302/500\n1/1 [==============================] - 0s 4ms/step - loss: 0.2434\nEpoch 303/500\n1/1 [==============================] - 0s 3ms/step - loss: 0.2408\nEpoch 304/500\n1/1 [==============================] - 0s 2ms/step - loss: 0.2383\nEpoch 305/500\n1/1 [==============================] - 0s 2ms/step - loss: 0.2358\nEpoch 306/500\n1/1 [==============================] - 0s 2ms/step - loss: 0.2333\nEpoch 307/500\n1/1 [==============================] - 0s 3ms/step - loss: 0.2309\nEpoch 308/500\n1/1 [==============================] - 0s 3ms/step - loss: 0.2284\nEpoch 309/500\n1/1 [==============================] - 0s 4ms/step - loss: 0.2261\nEpoch 310/500\n1/1 [==============================] - 0s 2ms/step - loss: 0.2237\nEpoch 311/500\n1/1 [==============================] - 0s 5ms/step - loss: 0.2213\nEpoch 312/500\n1/1 [==============================] - 0s 3ms/step - loss: 0.2190\nEpoch 313/500\n1/1 [==============================] - 0s 2ms/step - loss: 0.2167\nEpoch 314/500\n1/1 [==============================] - 0s 2ms/step - loss: 0.2144\nEpoch 315/500\n1/1 [==============================] - 0s 2ms/step - loss: 0.2122\nEpoch 316/500\n1/1 [==============================] - 0s 4ms/step - loss: 0.2100\nEpoch 317/500\n1/1 [==============================] - 0s 3ms/step - loss: 0.2078\nEpoch 318/500\n1/1 [==============================] - 0s 4ms/step - loss: 0.2056\nEpoch 319/500\n1/1 [==============================] - 0s 2ms/step - loss: 0.2034\nEpoch 320/500\n1/1 [==============================] - 0s 4ms/step - loss: 0.2013\nEpoch 321/500\n1/1 [==============================] - 0s 2ms/step - loss: 0.1992\nEpoch 322/500\n1/1 [==============================] - 0s 2ms/step - loss: 0.1971\nEpoch 323/500\n1/1 [==============================] - 0s 2ms/step - loss: 0.1950\nEpoch 324/500\n1/1 [==============================] - 0s 3ms/step - loss: 0.1930\nEpoch 325/500\n1/1 [==============================] - 0s 3ms/step - loss: 0.1910\nEpoch 326/500\n1/1 [==============================] - 0s 1ms/step - loss: 0.1890\nEpoch 327/500\n1/1 [==============================] - 0s 3ms/step - loss: 0.1870\nEpoch 328/500\n1/1 [==============================] - 0s 2ms/step - loss: 0.1850\nEpoch 329/500\n1/1 [==============================] - 0s 2ms/step - loss: 0.1831\nEpoch 330/500\n1/1 [==============================] - 0s 2ms/step - loss: 0.1811\nEpoch 331/500\n1/1 [==============================] - 0s 2ms/step - loss: 0.1792\nEpoch 332/500\n1/1 [==============================] - 0s 2ms/step - loss: 0.1774\nEpoch 333/500\n1/1 [==============================] - 0s 2ms/step - loss: 0.1755\nEpoch 334/500\n1/1 [==============================] - 0s 2ms/step - loss: 0.1737\nEpoch 335/500\n1/1 [==============================] - 0s 2ms/step - loss: 0.1718\nEpoch 336/500\n1/1 [==============================] - 0s 2ms/step - loss: 0.1700\nEpoch 337/500\n1/1 [==============================] - 0s 4ms/step - loss: 0.1683\nEpoch 338/500\n1/1 [==============================] - 0s 3ms/step - loss: 0.1665\nEpoch 339/500\n1/1 [==============================] - 0s 4ms/step - loss: 0.1647\nEpoch 340/500\n1/1 [==============================] - 0s 2ms/step - loss: 0.1630\nEpoch 341/500\n1/1 [==============================] - 0s 4ms/step - loss: 0.1613\nEpoch 342/500\n1/1 [==============================] - 0s 2ms/step - loss: 0.1596\nEpoch 343/500\n1/1 [==============================] - 0s 3ms/step - loss: 0.1579\nEpoch 344/500\n1/1 [==============================] - 0s 1ms/step - loss: 0.1563\nEpoch 345/500\n1/1 [==============================] - 0s 4ms/step - loss: 0.1546\nEpoch 346/500\n1/1 [==============================] - 0s 3ms/step - loss: 0.1530\nEpoch 347/500\n1/1 [==============================] - 0s 3ms/step - loss: 0.1514\nEpoch 348/500\n1/1 [==============================] - 0s 6ms/step - loss: 0.1498\nEpoch 349/500\n1/1 [==============================] - 0s 3ms/step - loss: 0.1483\nEpoch 350/500\n1/1 [==============================] - 0s 4ms/step - loss: 0.1467\nEpoch 351/500\n1/1 [==============================] - 0s 5ms/step - loss: 0.1452\nEpoch 352/500\n1/1 [==============================] - 0s 2ms/step - loss: 0.1436\nEpoch 353/500\n1/1 [==============================] - 0s 2ms/step - loss: 0.1421\nEpoch 354/500\n1/1 [==============================] - 0s 3ms/step - loss: 0.1406\nEpoch 355/500\n1/1 [==============================] - 0s 2ms/step - loss: 0.1392\nEpoch 356/500\n1/1 [==============================] - 0s 1ms/step - loss: 0.1377\nEpoch 357/500\n1/1 [==============================] - 0s 3ms/step - loss: 0.1363\nEpoch 358/500\n1/1 [==============================] - 0s 3ms/step - loss: 0.1348\nEpoch 359/500\n1/1 [==============================] - 0s 4ms/step - loss: 0.1334\nEpoch 360/500\n1/1 [==============================] - 0s 3ms/step - loss: 0.1320\nEpoch 361/500\n1/1 [==============================] - 0s 3ms/step - loss: 0.1306\nEpoch 362/500\n1/1 [==============================] - 0s 2ms/step - loss: 0.1293\nEpoch 363/500\n1/1 [==============================] - 0s 3ms/step - loss: 0.1279\nEpoch 364/500\n1/1 [==============================] - 0s 6ms/step - loss: 0.1266\nEpoch 365/500\n1/1 [==============================] - ETA: 0s - loss: 0.1251/1 [==============================] - 0s 4ms/step - loss: 0.1252\nEpoch 366/500\n1/1 [==============================] - 0s 3ms/step - loss: 0.1239\nEpoch 367/500\n1/1 [==============================] - 0s 3ms/step - loss: 0.1226\nEpoch 368/500\n1/1 [==============================] - 0s 3ms/step - loss: 0.1213\nEpoch 369/500\n1/1 [==============================] - 0s 6ms/step - loss: 0.1201\nEpoch 370/500\n1/1 [==============================] - 0s 2ms/step - loss: 0.1188\nEpoch 371/500\n1/1 [==============================] - 0s 2ms/step - loss: 0.1176\nEpoch 372/500\n1/1 [==============================] - 0s 3ms/step - loss: 0.1163\nEpoch 373/500\n1/1 [==============================] - 0s 3ms/step - loss: 0.1151\nEpoch 374/500\n1/1 [==============================] - 0s 1ms/step - loss: 0.1139\nEpoch 375/500\n1/1 [==============================] - 0s 4ms/step - loss: 0.1127\nEpoch 376/500\n1/1 [==============================] - 0s 2ms/step - loss: 0.1115\nEpoch 377/500\n1/1 [==============================] - 0s 3ms/step - loss: 0.1103\nEpoch 378/500\n1/1 [==============================] - 0s 2ms/step - loss: 0.1092\nEpoch 379/500\n1/1 [==============================] - 0s 2ms/step - loss: 0.1080\nEpoch 380/500\n1/1 [==============================] - 0s 3ms/step - loss: 0.1069\nEpoch 381/500\n1/1 [==============================] - 0s 3ms/step - loss: 0.1058\nEpoch 382/500\n1/1 [==============================] - 0s 4ms/step - loss: 0.1047\nEpoch 383/500\n1/1 [==============================] - 0s 2ms/step - loss: 0.1036\nEpoch 384/500\n1/1 [==============================] - 0s 998us/step - loss: 0.1025\nEpoch 385/500\n1/1 [==============================] - 0s 3ms/step - loss: 0.1014\nEpoch 386/500\n1/1 [==============================] - 0s 2ms/step - loss: 0.1004\nEpoch 387/500\n1/1 [==============================] - 0s 2ms/step - loss: 0.0993\nEpoch 388/500\n1/1 [==============================] - 0s 2ms/step - loss: 0.0983\nEpoch 389/500\n1/1 [==============================] - 0s 4ms/step - loss: 0.0972\nEpoch 390/500\n1/1 [==============================] - 0s 4ms/step - loss: 0.0962\nEpoch 391/500\n1/1 [==============================] - 0s 6ms/step - loss: 0.0952\nEpoch 392/500\n1/1 [==============================] - 0s 6ms/step - loss: 0.0942\nEpoch 393/500\n1/1 [==============================] - 0s 4ms/step - loss: 0.0932\nEpoch 394/500\n1/1 [==============================] - 0s 4ms/step - loss: 0.0922\nEpoch 395/500\n1/1 [==============================] - 0s 4ms/step - loss: 0.0913\nEpoch 396/500\n1/1 [==============================] - 0s 3ms/step - loss: 0.0903\nEpoch 397/500\n1/1 [==============================] - 0s 2ms/step - loss: 0.0894\nEpoch 398/500\n1/1 [==============================] - 0s 4ms/step - loss: 0.0884\nEpoch 399/500\n1/1 [==============================] - 0s 2ms/step - loss: 0.0875\nEpoch 400/500\n1/1 [==============================] - 0s 2ms/step - loss: 0.0866\nEpoch 401/500\n1/1 [==============================] - 0s 1ms/step - loss: 0.0857\nEpoch 402/500\n1/1 [==============================] - 0s 3ms/step - loss: 0.0848\nEpoch 403/500\n1/1 [==============================] - 0s 4ms/step - loss: 0.0839\nEpoch 404/500\n1/1 [==============================] - 0s 4ms/step - loss: 0.0830\nEpoch 405/500\n1/1 [==============================] - 0s 4ms/step - loss: 0.0821\nEpoch 406/500\n1/1 [==============================] - 0s 4ms/step - loss: 0.0813\nEpoch 407/500\n1/1 [==============================] - 0s 5ms/step - loss: 0.0804\nEpoch 408/500\n1/1 [==============================] - 0s 5ms/step - loss: 0.0796\nEpoch 409/500\n1/1 [==============================] - 0s 4ms/step - loss: 0.0787\nEpoch 410/500\n1/1 [==============================] - 0s 3ms/step - loss: 0.0779\nEpoch 411/500\n1/1 [==============================] - 0s 3ms/step - loss: 0.0771\nEpoch 412/500\n1/1 [==============================] - 0s 2ms/step - loss: 0.0763\nEpoch 413/500\n1/1 [==============================] - 0s 2ms/step - loss: 0.0755\nEpoch 414/500\n1/1 [==============================] - 0s 4ms/step - loss: 0.0747\nEpoch 415/500\n1/1 [==============================] - 0s 3ms/step - loss: 0.0739\nEpoch 416/500\n1/1 [==============================] - 0s 2ms/step - loss: 0.0731\nEpoch 417/500\n1/1 [==============================] - 0s 2ms/step - loss: 0.0724\nEpoch 418/500\n1/1 [==============================] - 0s 2ms/step - loss: 0.0716\nEpoch 419/500\n1/1 [==============================] - 0s 3ms/step - loss: 0.0709\nEpoch 420/500\n1/1 [==============================] - 0s 7ms/step - loss: 0.0701\nEpoch 421/500\n1/1 [==============================] - 0s 2ms/step - loss: 0.0694\nEpoch 422/500\n1/1 [==============================] - 0s 2ms/step - loss: 0.0687\nEpoch 423/500\n1/1 [==============================] - 0s 4ms/step - loss: 0.0679\nEpoch 424/500\n1/1 [==============================] - 0s 2ms/step - loss: 0.0672\nEpoch 425/500\n1/1 [==============================] - 0s 2ms/step - loss: 0.0665\nEpoch 426/500\n1/1 [==============================] - 0s 10ms/step - loss: 0.0658\nEpoch 427/500\n1/1 [==============================] - 0s 3ms/step - loss: 0.0651\nEpoch 428/500\n1/1 [==============================] - 0s 1ms/step - loss: 0.0644\nEpoch 429/500\n1/1 [==============================] - 0s 3ms/step - loss: 0.0638\nEpoch 430/500\n1/1 [==============================] - 0s 4ms/step - loss: 0.0631\nEpoch 431/500\n1/1 [==============================] - 0s 3ms/step - loss: 0.0624\nEpoch 432/500\n1/1 [==============================] - 0s 2ms/step - loss: 0.0618\nEpoch 433/500\n1/1 [==============================] - 0s 4ms/step - loss: 0.0611\nEpoch 434/500\n1/1 [==============================] - 0s 2ms/step - loss: 0.0605\nEpoch 435/500\n1/1 [==============================] - 0s 2ms/step - loss: 0.0599\nEpoch 436/500\n1/1 [==============================] - 0s 3ms/step - loss: 0.0592\nEpoch 437/500\n1/1 [==============================] - 0s 5ms/step - loss: 0.0586\nEpoch 438/500\n1/1 [==============================] - 0s 1ms/step - loss: 0.0580\nEpoch 439/500\n1/1 [==============================] - 0s 30ms/step - loss: 0.0574\nEpoch 440/500\n1/1 [==============================] - 0s 4ms/step - loss: 0.0568\nEpoch 441/500\n1/1 [==============================] - 0s 3ms/step - loss: 0.0562\nEpoch 442/500\n1/1 [==============================] - 0s 4ms/step - loss: 0.0556\nEpoch 443/500\n1/1 [==============================] - 0s 997us/step - loss: 0.0550\nEpoch 444/500\n1/1 [==============================] - 0s 3ms/step - loss: 0.0544\nEpoch 445/500\n1/1 [==============================] - 0s 2ms/step - loss: 0.0539\nEpoch 446/500\n1/1 [==============================] - 0s 2ms/step - loss: 0.0533\nEpoch 447/500\n1/1 [==============================] - 0s 2ms/step - loss: 0.0527\nEpoch 448/500\n1/1 [==============================] - 0s 7ms/step - loss: 0.0522\nEpoch 449/500\n1/1 [==============================] - 0s 1ms/step - loss: 0.0516\nEpoch 450/500\n1/1 [==============================] - 0s 3ms/step - loss: 0.0511\nEpoch 451/500\n1/1 [==============================] - 0s 2ms/step - loss: 0.0506\nEpoch 452/500\n1/1 [==============================] - 0s 2ms/step - loss: 0.0500\nEpoch 453/500\n1/1 [==============================] - 0s 2ms/step - loss: 0.0495\nEpoch 454/500\n1/1 [==============================] - 0s 2ms/step - loss: 0.0490\nEpoch 455/500\n1/1 [==============================] - 0s 3ms/step - loss: 0.0485\nEpoch 456/500\n1/1 [==============================] - 0s 3ms/step - loss: 0.0480\nEpoch 457/500\n1/1 [==============================] - 0s 1ms/step - loss: 0.0475\nEpoch 458/500\n1/1 [==============================] - 0s 3ms/step - loss: 0.0470\nEpoch 459/500\n1/1 [==============================] - 0s 2ms/step - loss: 0.0465\nEpoch 460/500\n1/1 [==============================] - 0s 2ms/step - loss: 0.0460\nEpoch 461/500\n1/1 [==============================] - 0s 2ms/step - loss: 0.0455\nEpoch 462/500\n1/1 [==============================] - 0s 22ms/step - loss: 0.0450\nEpoch 463/500\n1/1 [==============================] - 0s 2ms/step - loss: 0.0446\nEpoch 464/500\n1/1 [==============================] - 0s 2ms/step - loss: 0.0441\nEpoch 465/500\n1/1 [==============================] - 0s 2ms/step - loss: 0.0436\nEpoch 466/500\n1/1 [==============================] - 0s 3ms/step - loss: 0.0432\nEpoch 467/500\n1/1 [==============================] - 0s 4ms/step - loss: 0.0427\nEpoch 468/500\n1/1 [==============================] - 0s 2ms/step - loss: 0.0423\nEpoch 469/500\n1/1 [==============================] - 0s 14ms/step - loss: 0.0418\nEpoch 470/500\n1/1 [==============================] - 0s 2ms/step - loss: 0.0414\nEpoch 471/500\n1/1 [==============================] - 0s 2ms/step - loss: 0.0409\nEpoch 472/500\n1/1 [==============================] - 0s 3ms/step - loss: 0.0405\nEpoch 473/500\n1/1 [==============================] - 0s 12ms/step - loss: 0.0401\nEpoch 474/500\n1/1 [==============================] - 0s 3ms/step - loss: 0.0397\nEpoch 475/500\n1/1 [==============================] - 0s 3ms/step - loss: 0.0393\nEpoch 476/500\n1/1 [==============================] - 0s 5ms/step - loss: 0.0388\nEpoch 477/500\n1/1 [==============================] - 0s 4ms/step - loss: 0.0384\nEpoch 478/500\n1/1 [==============================] - 0s 2ms/step - loss: 0.0380\nEpoch 479/500\n1/1 [==============================] - 0s 5ms/step - loss: 0.0376\nEpoch 480/500\n1/1 [==============================] - 0s 4ms/step - loss: 0.0372\nEpoch 481/500\n1/1 [==============================] - 0s 3ms/step - loss: 0.0369\nEpoch 482/500\n1/1 [==============================] - 0s 5ms/step - loss: 0.0365\nEpoch 483/500\n1/1 [==============================] - 0s 3ms/step - loss: 0.0361\nEpoch 484/500\n1/1 [==============================] - 0s 2ms/step - loss: 0.0357\nEpoch 485/500\n1/1 [==============================] - 0s 3ms/step - loss: 0.0353\nEpoch 486/500\n1/1 [==============================] - 0s 5ms/step - loss: 0.0350\nEpoch 487/500\n1/1 [==============================] - 0s 4ms/step - loss: 0.0346\nEpoch 488/500\n1/1 [==============================] - 0s 4ms/step - loss: 0.0342\nEpoch 489/500\n1/1 [==============================] - 0s 3ms/step - loss: 0.0339\nEpoch 490/500\n1/1 [==============================] - 0s 4ms/step - loss: 0.0335\nEpoch 491/500\n1/1 [==============================] - 0s 4ms/step - loss: 0.0332\nEpoch 492/500\n1/1 [==============================] - 0s 3ms/step - loss: 0.0328\nEpoch 493/500\n1/1 [==============================] - 0s 3ms/step - loss: 0.0325\nEpoch 494/500\n1/1 [==============================] - 0s 4ms/step - loss: 0.0321\nEpoch 495/500\n1/1 [==============================] - 0s 7ms/step - loss: 0.0318\nEpoch 496/500\n1/1 [==============================] - 0s 2ms/step - loss: 0.0315\nEpoch 497/500\n1/1 [==============================] - 0s 4ms/step - loss: 0.0311\nEpoch 498/500\n1/1 [==============================] - ETA: 0s - loss: 0.0301/1 [==============================] - 0s 4ms/step - loss: 0.0308\nEpoch 499/500\n1/1 [==============================] - 0s 3ms/step - loss: 0.0305\nEpoch 500/500\n1/1 [==============================] - 0s 2ms/step - loss: 0.0302\n"
    },
    {
     "output_type": "execute_result",
     "data": {
      "text/plain": "<tensorflow.python.keras.callbacks.History at 0x2ab59e5d588>"
     },
     "metadata": {},
     "execution_count": 7
    }
   ],
   "source": [
    "model.fit(xs, ys, epochs=500)"
   ]
  },
  {
   "cell_type": "markdown",
   "metadata": {
    "colab_type": "text",
    "id": "DSqjB5udTNuk"
   },
   "source": [
    "Una vez que el modelo está entrenado, podemos determinar su presición imprimiendo un valor conocido, y comparándolo con el valor real generado por la\n",
    "función `f` que queremos aproximar."
   ]
  },
  {
   "cell_type": "code",
   "execution_count": 8,
   "metadata": {
    "colab": {
     "base_uri": "https://localhost:8080/",
     "height": 34
    },
    "colab_type": "code",
    "id": "vE-OpwkF7LvF",
    "outputId": "ef0705c0-f41f-4b88-ad3d-6455f71c9afb",
    "tags": []
   },
   "outputs": [
    {
     "output_type": "stream",
     "name": "stdout",
     "text": "[[9.925377]]\n"
    }
   ],
   "source": [
    "print(model.predict([5]))"
   ]
  },
  {
   "cell_type": "markdown",
   "metadata": {
    "colab_type": "text",
    "id": "x8Vaa0F1Tk5L"
   },
   "source": [
    "Quizás sea sorpresivo que el valor no es exactamente igual a 10 luego de entrenar el modelo con 500 iteraciones del *dataset*.\n",
    "\n",
    "Por esto es importante recordar que las redes neuronales se\n",
    "entrenan calculando probabilidades, y el modelo aprendió que existe una relación entre los *inputs* y *outputs* que es altamente probable dados los ejemplos en el *dataset*. Aún así, \"altamente probable\" no significa \"exactamente\"."
   ]
  },
  {
   "cell_type": "code",
   "execution_count": null,
   "metadata": {},
   "outputs": [],
   "source": []
  },
  {
   "cell_type": "code",
   "execution_count": null,
   "metadata": {},
   "outputs": [],
   "source": []
  },
  {
   "cell_type": "code",
   "execution_count": null,
   "metadata": {},
   "outputs": [],
   "source": []
  },
  {
   "cell_type": "code",
   "execution_count": null,
   "metadata": {},
   "outputs": [],
   "source": []
  }
 ],
 "metadata": {
  "colab": {
   "name": "[Clase 1] 1 - De ejemplos a reglas.ipynb",
   "provenance": []
  },
  "kernelspec": {
   "display_name": "Python 3.7.8 64-bit",
   "language": "python",
   "name": "python_defaultSpec_1594510329068"
  },
  "language_info": {
   "codemirror_mode": {
    "name": "ipython",
    "version": 3
   },
   "file_extension": ".py",
   "mimetype": "text/x-python",
   "name": "python",
   "nbconvert_exporter": "python",
   "pygments_lexer": "ipython3",
   "version": "3.7.5"
  }
 },
 "nbformat": 4,
 "nbformat_minor": 4
}